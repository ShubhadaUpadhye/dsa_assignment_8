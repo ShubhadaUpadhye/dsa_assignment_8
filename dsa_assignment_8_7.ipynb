{
 "cells": [
  {
   "cell_type": "code",
   "execution_count": null,
   "metadata": {},
   "outputs": [],
   "source": [
    "# ans7) Given an encoded string, return its decoded string.\n",
    "s = \"5[a]6[bc]\"\n",
    "s_list=[]\n",
    "alpha_list=[]\n",
    "num_list=[]\n",
    "decode_string=''\n",
    "\n",
    "for i in s:\n",
    "    if i.isalnum():\n",
    "        s_list.append(i)\n",
    "for i in s:\n",
    "    if i.isnumeric():\n",
    "        num_list.append(int(i))\n",
    "        \n",
    "for i in range(len(s_list)-1):\n",
    "    if s_list[i].isalpha() and s_list[i+1].isalpha():\n",
    "        alpha_list.append(s_list[i]+s_list[i+1])\n",
    "    else:\n",
    "        if s_list[i].isalpha():\n",
    "            alpha_list.append(s_list[i])\n",
    "\n",
    "\n",
    "for i in range(len(num_list)):\n",
    "    for j in range(num_list[i]):\n",
    "        decode_string=decode_string+alpha_list[i]\n",
    "print(decode_string)"
   ]
  }
 ],
 "metadata": {
  "kernelspec": {
   "display_name": "Python 3",
   "language": "python",
   "name": "python3"
  },
  "language_info": {
   "codemirror_mode": {
    "name": "ipython",
    "version": 3
   },
   "file_extension": ".py",
   "mimetype": "text/x-python",
   "name": "python",
   "nbconvert_exporter": "python",
   "pygments_lexer": "ipython3",
   "version": "3.8.5"
  }
 },
 "nbformat": 4,
 "nbformat_minor": 4
}
