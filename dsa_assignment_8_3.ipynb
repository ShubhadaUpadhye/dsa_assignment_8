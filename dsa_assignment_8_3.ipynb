{
 "cells": [
  {
   "cell_type": "code",
   "execution_count": null,
   "metadata": {},
   "outputs": [],
   "source": [
    "# ans3)Given two strings word1 and word2, return the minimum number of steps required to make word1 and word2 the same.\n",
    "word1 = \"sea\"\n",
    "word2 = \"eat\"\n",
    "\n",
    "for i in word1:\n",
    "    if i not in word2:\n",
    "        word1=word1.replace(i,'')\n",
    "for i in word2:\n",
    "    if i not in word1:\n",
    "        word2=word2.replace(i,'')\n",
    "        \n",
    "print(word1,word2)\n",
    "\n",
    "# the total steps taken to solve above code is 14 steps"
   ]
  }
 ],
 "metadata": {
  "kernelspec": {
   "display_name": "Python 3",
   "language": "python",
   "name": "python3"
  },
  "language_info": {
   "codemirror_mode": {
    "name": "ipython",
    "version": 3
   },
   "file_extension": ".py",
   "mimetype": "text/x-python",
   "name": "python",
   "nbconvert_exporter": "python",
   "pygments_lexer": "ipython3",
   "version": "3.8.5"
  }
 },
 "nbformat": 4,
 "nbformat_minor": 4
}
