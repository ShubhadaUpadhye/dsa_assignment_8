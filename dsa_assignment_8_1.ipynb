{
 "cells": [
  {
   "cell_type": "code",
   "execution_count": 42,
   "metadata": {},
   "outputs": [
    {
     "name": "stdout",
     "output_type": "stream",
     "text": [
      "the minimal sum is '199'\n"
     ]
    }
   ],
   "source": [
    "# 1)Given two strings s1 and s2, return the lowest ASCII sum of deleted characters to make two strings equal.\n",
    "\n",
    "s1 = \"sea\"\n",
    "s2 = \"eat\"\n",
    "\n",
    "s_ascii=[]\n",
    "\n",
    "for i in s1:\n",
    "    if i not in s2:\n",
    "        s_ascii.extend(i)\n",
    "for j in s2:\n",
    "    if j not in s1:\n",
    "        s_ascii.extend(j)\n",
    "\n",
    "sum=0       \n",
    "for k in s_ascii:\n",
    "    sum=sum+ord(k)\n",
    "print(\"the minimal sum is '{}'\".format(sum))"
   ]
  },
  {
   "cell_type": "code",
   "execution_count": null,
   "metadata": {},
   "outputs": [],
   "source": []
  }
 ],
 "metadata": {
  "kernelspec": {
   "display_name": "Python 3",
   "language": "python",
   "name": "python3"
  },
  "language_info": {
   "codemirror_mode": {
    "name": "ipython",
    "version": 3
   },
   "file_extension": ".py",
   "mimetype": "text/x-python",
   "name": "python",
   "nbconvert_exporter": "python",
   "pygments_lexer": "ipython3",
   "version": "3.8.5"
  }
 },
 "nbformat": 4,
 "nbformat_minor": 4
}
