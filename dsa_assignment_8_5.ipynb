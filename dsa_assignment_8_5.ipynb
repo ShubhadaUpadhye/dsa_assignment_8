{
 "cells": [
  {
   "cell_type": "code",
   "execution_count": null,
   "metadata": {},
   "outputs": [],
   "source": [
    "# ans5)Given an array of characters chars, compress it using the following algorithm:\n",
    "\n",
    "chars = [a\",\"a\",\"b\",\"b\",\"b\",\"c\",\"c\",\"c\"]\n",
    "s=''\n",
    "for i in set(chars[::-1]):\n",
    "    if chars.count(i)==1:\n",
    "        s=s+i \n",
    "    else:\n",
    "        s=s+i+str(chars.count(i))\n",
    "\n",
    "chars.clear()\n",
    "for i in s:\n",
    "    chars.extend(i)\n",
    "print(len(chars),chars)\n"
   ]
  },
  {
   "cell_type": "code",
   "execution_count": null,
   "metadata": {},
   "outputs": [],
   "source": []
  }
 ],
 "metadata": {
  "kernelspec": {
   "display_name": "Python 3",
   "language": "python",
   "name": "python3"
  },
  "language_info": {
   "codemirror_mode": {
    "name": "ipython",
    "version": 3
   },
   "file_extension": ".py",
   "mimetype": "text/x-python",
   "name": "python",
   "nbconvert_exporter": "python",
   "pygments_lexer": "ipython3",
   "version": "3.8.5"
  }
 },
 "nbformat": 4,
 "nbformat_minor": 4
}
