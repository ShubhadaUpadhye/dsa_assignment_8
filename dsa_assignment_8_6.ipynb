{
 "cells": [
  {
   "cell_type": "code",
   "execution_count": null,
   "metadata": {},
   "outputs": [],
   "source": [
    "# ans6) Given two strings s and p, return an array of all the start indices of p's anagrams in s. You may return the answer in any order.\n",
    "s = \"cbaebabacd\"\n",
    "p = \"abc\"\n",
    "p_anagrams=['abc','bca','bac','cab','cba']\n",
    "\n",
    "index_list=[]\n",
    "for i in p_anagrams:\n",
    "    if i in s:\n",
    "        index_list.append(s.find(i,0))\n",
    "        \n",
    "print(index_list)"
   ]
  }
 ],
 "metadata": {
  "kernelspec": {
   "display_name": "Python 3",
   "language": "python",
   "name": "python3"
  },
  "language_info": {
   "codemirror_mode": {
    "name": "ipython",
    "version": 3
   },
   "file_extension": ".py",
   "mimetype": "text/x-python",
   "name": "python",
   "nbconvert_exporter": "python",
   "pygments_lexer": "ipython3",
   "version": "3.8.5"
  }
 },
 "nbformat": 4,
 "nbformat_minor": 4
}
