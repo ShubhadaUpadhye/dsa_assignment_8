{
 "cells": [
  {
   "cell_type": "code",
   "execution_count": null,
   "metadata": {},
   "outputs": [],
   "source": [
    "# ans8)Given two strings s and goal, return true if you can swap two letters in s so the result is equal to goal, otherwise, return false.\n",
    "s='ab'\n",
    "goal='ba'\n",
    "s1=''\n",
    "s_list=[]\n",
    "for i in s:\n",
    "    s_list.extend(i)\n",
    "for i in range(len(s_list)-1):\n",
    "    if i==len(s_list):\n",
    "        break\n",
    "    else:\n",
    "        x=s_list[i]\n",
    "        y=s_list[i+1]\n",
    "        temp=s_list[i]\n",
    "        x=y\n",
    "        y=temp\n",
    "        s1=s1+x+y\n",
    "s=s1\n",
    "if s==t:\n",
    "    print(True)\n",
    "else:\n",
    "    print(False)"
   ]
  }
 ],
 "metadata": {
  "kernelspec": {
   "display_name": "Python 3",
   "language": "python",
   "name": "python3"
  },
  "language_info": {
   "codemirror_mode": {
    "name": "ipython",
    "version": 3
   },
   "file_extension": ".py",
   "mimetype": "text/x-python",
   "name": "python",
   "nbconvert_exporter": "python",
   "pygments_lexer": "ipython3",
   "version": "3.8.5"
  }
 },
 "nbformat": 4,
 "nbformat_minor": 4
}
